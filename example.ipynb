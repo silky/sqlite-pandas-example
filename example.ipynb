{
 "cells": [
  {
   "cell_type": "code",
   "execution_count": 1,
   "id": "4cfa115f",
   "metadata": {},
   "outputs": [],
   "source": [
    "import sqlite3\n",
    "import pandas as pd"
   ]
  },
  {
   "cell_type": "code",
   "execution_count": 6,
   "id": "0677af80",
   "metadata": {},
   "outputs": [],
   "source": [
    "con = sqlite3.connect(\"data.db\")\n",
    "cur = con.cursor();\n",
    "\n",
    "cur.execute(\"\"\"drop table if exists person;\"\"\");\n",
    "cur.execute(\"\"\"drop table if exists toy;\"\"\");"
   ]
  },
  {
   "cell_type": "code",
   "execution_count": 7,
   "id": "1d18fb5d",
   "metadata": {},
   "outputs": [],
   "source": [
    "cur.execute(\"\"\"\n",
    "create table person(\n",
    "   person_id INTEGER,\n",
    "   name TEXT,\n",
    "   PRIMARY KEY (person_id)\n",
    ");\n",
    "\"\"\");\n",
    "\n",
    "cur.execute(\"\"\"\n",
    "create table toy(\n",
    "  toy_id INTEGER,\n",
    "  name TEXT,\n",
    "  person_id INTEGER,\n",
    "  PRIMARY KEY (toy_id),\n",
    "   FOREIGN KEY (person_id) \n",
    "      REFERENCES person (person_id) \n",
    "         ON DELETE CASCADE \n",
    "         ON UPDATE NO ACTION\n",
    ");\n",
    "\"\"\");"
   ]
  },
  {
   "cell_type": "code",
   "execution_count": 8,
   "id": "c65732ea",
   "metadata": {},
   "outputs": [],
   "source": [
    "df = pd.DataFrame([{\"person_id\": 5, \"name\": \"Noon\"}])\n",
    "df = df.set_index(\"person_id\")"
   ]
  },
  {
   "cell_type": "code",
   "execution_count": 9,
   "id": "7b78963d",
   "metadata": {},
   "outputs": [
    {
     "data": {
      "text/plain": [
       "1"
      ]
     },
     "execution_count": 9,
     "metadata": {},
     "output_type": "execute_result"
    }
   ],
   "source": [
    "df.to_sql(\"person\", con, if_exists=\"append\")"
   ]
  },
  {
   "cell_type": "code",
   "execution_count": 10,
   "id": "5612e8e6",
   "metadata": {},
   "outputs": [],
   "source": [
    "df = pd.DataFrame([{\"toy_id\": 1, \"person_id\": 5, \"name\": \"Senor Conejo\"}])\n",
    "df = df.set_index(\"toy_id\")"
   ]
  },
  {
   "cell_type": "code",
   "execution_count": 11,
   "id": "8ea53af3",
   "metadata": {},
   "outputs": [
    {
     "data": {
      "text/plain": [
       "1"
      ]
     },
     "execution_count": 11,
     "metadata": {},
     "output_type": "execute_result"
    }
   ],
   "source": [
    "df.to_sql(\"toy\", con, if_exists=\"append\")"
   ]
  },
  {
   "cell_type": "code",
   "execution_count": 12,
   "id": "e5b17785",
   "metadata": {},
   "outputs": [
    {
     "data": {
      "text/html": [
       "<div>\n",
       "<style scoped>\n",
       "    .dataframe tbody tr th:only-of-type {\n",
       "        vertical-align: middle;\n",
       "    }\n",
       "\n",
       "    .dataframe tbody tr th {\n",
       "        vertical-align: top;\n",
       "    }\n",
       "\n",
       "    .dataframe thead th {\n",
       "        text-align: right;\n",
       "    }\n",
       "</style>\n",
       "<table border=\"1\" class=\"dataframe\">\n",
       "  <thead>\n",
       "    <tr style=\"text-align: right;\">\n",
       "      <th></th>\n",
       "      <th>toy_id</th>\n",
       "      <th>name</th>\n",
       "      <th>person_id</th>\n",
       "      <th>person_id</th>\n",
       "      <th>name</th>\n",
       "    </tr>\n",
       "  </thead>\n",
       "  <tbody>\n",
       "    <tr>\n",
       "      <th>0</th>\n",
       "      <td>1</td>\n",
       "      <td>Senor Conejo</td>\n",
       "      <td>5</td>\n",
       "      <td>5</td>\n",
       "      <td>Noon</td>\n",
       "    </tr>\n",
       "  </tbody>\n",
       "</table>\n",
       "</div>"
      ],
      "text/plain": [
       "   toy_id          name  person_id  person_id  name\n",
       "0       1  Senor Conejo          5          5  Noon"
      ]
     },
     "execution_count": 12,
     "metadata": {},
     "output_type": "execute_result"
    }
   ],
   "source": [
    "df = pd.read_sql(\"\"\"\n",
    "select\n",
    "    toy.*,\n",
    "    person.*\n",
    "from\n",
    "    toy\n",
    "inner join\n",
    "    person on\n",
    "    person.person_id = toy.person_id\n",
    "\"\"\", con)\n",
    "df"
   ]
  },
  {
   "cell_type": "code",
   "execution_count": null,
   "id": "f65ea595",
   "metadata": {},
   "outputs": [],
   "source": []
  }
 ],
 "metadata": {
  "kernelspec": {
   "display_name": "Python 3 (ipykernel)",
   "language": "python",
   "name": "python3"
  },
  "language_info": {
   "codemirror_mode": {
    "name": "ipython",
    "version": 3
   },
   "file_extension": ".py",
   "mimetype": "text/x-python",
   "name": "python",
   "nbconvert_exporter": "python",
   "pygments_lexer": "ipython3",
   "version": "3.10.12"
  }
 },
 "nbformat": 4,
 "nbformat_minor": 5
}
